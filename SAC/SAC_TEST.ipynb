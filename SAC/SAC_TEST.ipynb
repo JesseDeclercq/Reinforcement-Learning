{
 "metadata": {
  "language_info": {
   "codemirror_mode": {
    "name": "ipython",
    "version": 3
   },
   "file_extension": ".py",
   "mimetype": "text/x-python",
   "name": "python",
   "nbconvert_exporter": "python",
   "pygments_lexer": "ipython3",
   "version": "3.8.5-final"
  },
  "orig_nbformat": 2,
  "kernelspec": {
   "name": "python3",
   "display_name": "Python 3.8.5 64-bit (conda)",
   "metadata": {
    "interpreter": {
     "hash": "1751bda222553ab84c6bfbd7e5839720295237ca974c267d0e65acc5b910265d"
    }
   }
  }
 },
 "nbformat": 4,
 "nbformat_minor": 2,
 "cells": [
  {
   "cell_type": "code",
   "execution_count": 20,
   "metadata": {},
   "outputs": [
    {
     "output_type": "stream",
     "name": "stdout",
     "text": [
      "0 False\n1 True\n1 True\n"
     ]
    }
   ],
   "source": [
    "import random\n",
    "import numpy as np\n",
    "\n",
    "dictionary = [{'state':np.array([0,0,0,1]), 'action': np.array([2,3,4]), 'done':True}, \n",
    "              {'state':np.array([1,0,0,1]), 'action': np.array([2,5,4]), 'done':False},\n",
    "              {'state':np.array([1,1,0,1]), 'action': np.array([0,5,4]), 'done':True}]\n",
    "\n",
    "list_test = [[1,2,3,4],[2,3,4,5],[6,7,8,9]]\n",
    "samples = random.sample(dictionary, 3)\n",
    "samples = np.array(samples)\n",
    "\n",
    "for i,sample in enumerate(samples):\n",
    "    \n",
    "    print(sample['done']*1, sample['done'])"
   ]
  },
  {
   "cell_type": "code",
   "execution_count": 34,
   "metadata": {},
   "outputs": [],
   "source": [
    "rewards = np.loadtxt('Checkpoints/Rewards/avg.txt')"
   ]
  },
  {
   "cell_type": "code",
   "execution_count": 37,
   "metadata": {},
   "outputs": [
    {
     "output_type": "execute_result",
     "data": {
      "text/plain": [
       "[<matplotlib.lines.Line2D at 0x1fda553ca00>]"
      ]
     },
     "metadata": {},
     "execution_count": 37
    },
    {
     "output_type": "display_data",
     "data": {
      "text/plain": "<Figure size 432x288 with 1 Axes>",
      "image/svg+xml": "<?xml version=\"1.0\" encoding=\"utf-8\" standalone=\"no\"?>\r\n<!DOCTYPE svg PUBLIC \"-//W3C//DTD SVG 1.1//EN\"\r\n  \"http://www.w3.org/Graphics/SVG/1.1/DTD/svg11.dtd\">\r\n<!-- Created with matplotlib (https://matplotlib.org/) -->\r\n<svg height=\"248.518125pt\" version=\"1.1\" viewBox=\"0 0 368.925 248.518125\" width=\"368.925pt\" xmlns=\"http://www.w3.org/2000/svg\" xmlns:xlink=\"http://www.w3.org/1999/xlink\">\r\n <metadata>\r\n  <rdf:RDF xmlns:cc=\"http://creativecommons.org/ns#\" xmlns:dc=\"http://purl.org/dc/elements/1.1/\" xmlns:rdf=\"http://www.w3.org/1999/02/22-rdf-syntax-ns#\">\r\n   <cc:Work>\r\n    <dc:type rdf:resource=\"http://purl.org/dc/dcmitype/StillImage\"/>\r\n    <dc:date>2021-03-17T16:13:47.014253</dc:date>\r\n    <dc:format>image/svg+xml</dc:format>\r\n    <dc:creator>\r\n     <cc:Agent>\r\n      <dc:title>Matplotlib v3.3.2, https://matplotlib.org/</dc:title>\r\n     </cc:Agent>\r\n    </dc:creator>\r\n   </cc:Work>\r\n  </rdf:RDF>\r\n </metadata>\r\n <defs>\r\n  <style type=\"text/css\">*{stroke-linecap:butt;stroke-linejoin:round;}</style>\r\n </defs>\r\n <g id=\"figure_1\">\r\n  <g id=\"patch_1\">\r\n   <path d=\"M -0 248.518125 \r\nL 368.925 248.518125 \r\nL 368.925 0 \r\nL -0 0 \r\nz\r\n\" style=\"fill:none;\"/>\r\n  </g>\r\n  <g id=\"axes_1\">\r\n   <g id=\"patch_2\">\r\n    <path d=\"M 26.925 224.64 \r\nL 361.725 224.64 \r\nL 361.725 7.2 \r\nL 26.925 7.2 \r\nz\r\n\" style=\"fill:#ffffff;\"/>\r\n   </g>\r\n   <g id=\"matplotlib.axis_1\">\r\n    <g id=\"xtick_1\">\r\n     <g id=\"line2d_1\">\r\n      <defs>\r\n       <path d=\"M 0 0 \r\nL 0 3.5 \r\n\" id=\"m63fef8439a\" style=\"stroke:#000000;stroke-width:0.8;\"/>\r\n      </defs>\r\n      <g>\r\n       <use style=\"stroke:#000000;stroke-width:0.8;\" x=\"42.143182\" xlink:href=\"#m63fef8439a\" y=\"224.64\"/>\r\n      </g>\r\n     </g>\r\n     <g id=\"text_1\">\r\n      <!-- 0 -->\r\n      <g transform=\"translate(38.961932 239.238437)scale(0.1 -0.1)\">\r\n       <defs>\r\n        <path d=\"M 31.78125 66.40625 \r\nQ 24.171875 66.40625 20.328125 58.90625 \r\nQ 16.5 51.421875 16.5 36.375 \r\nQ 16.5 21.390625 20.328125 13.890625 \r\nQ 24.171875 6.390625 31.78125 6.390625 \r\nQ 39.453125 6.390625 43.28125 13.890625 \r\nQ 47.125 21.390625 47.125 36.375 \r\nQ 47.125 51.421875 43.28125 58.90625 \r\nQ 39.453125 66.40625 31.78125 66.40625 \r\nz\r\nM 31.78125 74.21875 \r\nQ 44.046875 74.21875 50.515625 64.515625 \r\nQ 56.984375 54.828125 56.984375 36.375 \r\nQ 56.984375 17.96875 50.515625 8.265625 \r\nQ 44.046875 -1.421875 31.78125 -1.421875 \r\nQ 19.53125 -1.421875 13.0625 8.265625 \r\nQ 6.59375 17.96875 6.59375 36.375 \r\nQ 6.59375 54.828125 13.0625 64.515625 \r\nQ 19.53125 74.21875 31.78125 74.21875 \r\nz\r\n\" id=\"DejaVuSans-48\"/>\r\n       </defs>\r\n       <use xlink:href=\"#DejaVuSans-48\"/>\r\n      </g>\r\n     </g>\r\n    </g>\r\n    <g id=\"xtick_2\">\r\n     <g id=\"line2d_2\">\r\n      <g>\r\n       <use style=\"stroke:#000000;stroke-width:0.8;\" x=\"80.283988\" xlink:href=\"#m63fef8439a\" y=\"224.64\"/>\r\n      </g>\r\n     </g>\r\n     <g id=\"text_2\">\r\n      <!-- 50 -->\r\n      <g transform=\"translate(73.921488 239.238437)scale(0.1 -0.1)\">\r\n       <defs>\r\n        <path d=\"M 10.796875 72.90625 \r\nL 49.515625 72.90625 \r\nL 49.515625 64.59375 \r\nL 19.828125 64.59375 \r\nL 19.828125 46.734375 \r\nQ 21.96875 47.46875 24.109375 47.828125 \r\nQ 26.265625 48.1875 28.421875 48.1875 \r\nQ 40.625 48.1875 47.75 41.5 \r\nQ 54.890625 34.8125 54.890625 23.390625 \r\nQ 54.890625 11.625 47.5625 5.09375 \r\nQ 40.234375 -1.421875 26.90625 -1.421875 \r\nQ 22.3125 -1.421875 17.546875 -0.640625 \r\nQ 12.796875 0.140625 7.71875 1.703125 \r\nL 7.71875 11.625 \r\nQ 12.109375 9.234375 16.796875 8.0625 \r\nQ 21.484375 6.890625 26.703125 6.890625 \r\nQ 35.15625 6.890625 40.078125 11.328125 \r\nQ 45.015625 15.765625 45.015625 23.390625 \r\nQ 45.015625 31 40.078125 35.4375 \r\nQ 35.15625 39.890625 26.703125 39.890625 \r\nQ 22.75 39.890625 18.8125 39.015625 \r\nQ 14.890625 38.140625 10.796875 36.28125 \r\nz\r\n\" id=\"DejaVuSans-53\"/>\r\n       </defs>\r\n       <use xlink:href=\"#DejaVuSans-53\"/>\r\n       <use x=\"63.623047\" xlink:href=\"#DejaVuSans-48\"/>\r\n      </g>\r\n     </g>\r\n    </g>\r\n    <g id=\"xtick_3\">\r\n     <g id=\"line2d_3\">\r\n      <g>\r\n       <use style=\"stroke:#000000;stroke-width:0.8;\" x=\"118.424795\" xlink:href=\"#m63fef8439a\" y=\"224.64\"/>\r\n      </g>\r\n     </g>\r\n     <g id=\"text_3\">\r\n      <!-- 100 -->\r\n      <g transform=\"translate(108.881045 239.238437)scale(0.1 -0.1)\">\r\n       <defs>\r\n        <path d=\"M 12.40625 8.296875 \r\nL 28.515625 8.296875 \r\nL 28.515625 63.921875 \r\nL 10.984375 60.40625 \r\nL 10.984375 69.390625 \r\nL 28.421875 72.90625 \r\nL 38.28125 72.90625 \r\nL 38.28125 8.296875 \r\nL 54.390625 8.296875 \r\nL 54.390625 0 \r\nL 12.40625 0 \r\nz\r\n\" id=\"DejaVuSans-49\"/>\r\n       </defs>\r\n       <use xlink:href=\"#DejaVuSans-49\"/>\r\n       <use x=\"63.623047\" xlink:href=\"#DejaVuSans-48\"/>\r\n       <use x=\"127.246094\" xlink:href=\"#DejaVuSans-48\"/>\r\n      </g>\r\n     </g>\r\n    </g>\r\n    <g id=\"xtick_4\">\r\n     <g id=\"line2d_4\">\r\n      <g>\r\n       <use style=\"stroke:#000000;stroke-width:0.8;\" x=\"156.565602\" xlink:href=\"#m63fef8439a\" y=\"224.64\"/>\r\n      </g>\r\n     </g>\r\n     <g id=\"text_4\">\r\n      <!-- 150 -->\r\n      <g transform=\"translate(147.021852 239.238437)scale(0.1 -0.1)\">\r\n       <use xlink:href=\"#DejaVuSans-49\"/>\r\n       <use x=\"63.623047\" xlink:href=\"#DejaVuSans-53\"/>\r\n       <use x=\"127.246094\" xlink:href=\"#DejaVuSans-48\"/>\r\n      </g>\r\n     </g>\r\n    </g>\r\n    <g id=\"xtick_5\">\r\n     <g id=\"line2d_5\">\r\n      <g>\r\n       <use style=\"stroke:#000000;stroke-width:0.8;\" x=\"194.706408\" xlink:href=\"#m63fef8439a\" y=\"224.64\"/>\r\n      </g>\r\n     </g>\r\n     <g id=\"text_5\">\r\n      <!-- 200 -->\r\n      <g transform=\"translate(185.162658 239.238437)scale(0.1 -0.1)\">\r\n       <defs>\r\n        <path d=\"M 19.1875 8.296875 \r\nL 53.609375 8.296875 \r\nL 53.609375 0 \r\nL 7.328125 0 \r\nL 7.328125 8.296875 \r\nQ 12.9375 14.109375 22.625 23.890625 \r\nQ 32.328125 33.6875 34.8125 36.53125 \r\nQ 39.546875 41.84375 41.421875 45.53125 \r\nQ 43.3125 49.21875 43.3125 52.78125 \r\nQ 43.3125 58.59375 39.234375 62.25 \r\nQ 35.15625 65.921875 28.609375 65.921875 \r\nQ 23.96875 65.921875 18.8125 64.3125 \r\nQ 13.671875 62.703125 7.8125 59.421875 \r\nL 7.8125 69.390625 \r\nQ 13.765625 71.78125 18.9375 73 \r\nQ 24.125 74.21875 28.421875 74.21875 \r\nQ 39.75 74.21875 46.484375 68.546875 \r\nQ 53.21875 62.890625 53.21875 53.421875 \r\nQ 53.21875 48.921875 51.53125 44.890625 \r\nQ 49.859375 40.875 45.40625 35.40625 \r\nQ 44.1875 33.984375 37.640625 27.21875 \r\nQ 31.109375 20.453125 19.1875 8.296875 \r\nz\r\n\" id=\"DejaVuSans-50\"/>\r\n       </defs>\r\n       <use xlink:href=\"#DejaVuSans-50\"/>\r\n       <use x=\"63.623047\" xlink:href=\"#DejaVuSans-48\"/>\r\n       <use x=\"127.246094\" xlink:href=\"#DejaVuSans-48\"/>\r\n      </g>\r\n     </g>\r\n    </g>\r\n    <g id=\"xtick_6\">\r\n     <g id=\"line2d_6\">\r\n      <g>\r\n       <use style=\"stroke:#000000;stroke-width:0.8;\" x=\"232.847215\" xlink:href=\"#m63fef8439a\" y=\"224.64\"/>\r\n      </g>\r\n     </g>\r\n     <g id=\"text_6\">\r\n      <!-- 250 -->\r\n      <g transform=\"translate(223.303465 239.238437)scale(0.1 -0.1)\">\r\n       <use xlink:href=\"#DejaVuSans-50\"/>\r\n       <use x=\"63.623047\" xlink:href=\"#DejaVuSans-53\"/>\r\n       <use x=\"127.246094\" xlink:href=\"#DejaVuSans-48\"/>\r\n      </g>\r\n     </g>\r\n    </g>\r\n    <g id=\"xtick_7\">\r\n     <g id=\"line2d_7\">\r\n      <g>\r\n       <use style=\"stroke:#000000;stroke-width:0.8;\" x=\"270.988021\" xlink:href=\"#m63fef8439a\" y=\"224.64\"/>\r\n      </g>\r\n     </g>\r\n     <g id=\"text_7\">\r\n      <!-- 300 -->\r\n      <g transform=\"translate(261.444271 239.238437)scale(0.1 -0.1)\">\r\n       <defs>\r\n        <path d=\"M 40.578125 39.3125 \r\nQ 47.65625 37.796875 51.625 33 \r\nQ 55.609375 28.21875 55.609375 21.1875 \r\nQ 55.609375 10.40625 48.1875 4.484375 \r\nQ 40.765625 -1.421875 27.09375 -1.421875 \r\nQ 22.515625 -1.421875 17.65625 -0.515625 \r\nQ 12.796875 0.390625 7.625 2.203125 \r\nL 7.625 11.71875 \r\nQ 11.71875 9.328125 16.59375 8.109375 \r\nQ 21.484375 6.890625 26.8125 6.890625 \r\nQ 36.078125 6.890625 40.9375 10.546875 \r\nQ 45.796875 14.203125 45.796875 21.1875 \r\nQ 45.796875 27.640625 41.28125 31.265625 \r\nQ 36.765625 34.90625 28.71875 34.90625 \r\nL 20.21875 34.90625 \r\nL 20.21875 43.015625 \r\nL 29.109375 43.015625 \r\nQ 36.375 43.015625 40.234375 45.921875 \r\nQ 44.09375 48.828125 44.09375 54.296875 \r\nQ 44.09375 59.90625 40.109375 62.90625 \r\nQ 36.140625 65.921875 28.71875 65.921875 \r\nQ 24.65625 65.921875 20.015625 65.03125 \r\nQ 15.375 64.15625 9.8125 62.3125 \r\nL 9.8125 71.09375 \r\nQ 15.4375 72.65625 20.34375 73.4375 \r\nQ 25.25 74.21875 29.59375 74.21875 \r\nQ 40.828125 74.21875 47.359375 69.109375 \r\nQ 53.90625 64.015625 53.90625 55.328125 \r\nQ 53.90625 49.265625 50.4375 45.09375 \r\nQ 46.96875 40.921875 40.578125 39.3125 \r\nz\r\n\" id=\"DejaVuSans-51\"/>\r\n       </defs>\r\n       <use xlink:href=\"#DejaVuSans-51\"/>\r\n       <use x=\"63.623047\" xlink:href=\"#DejaVuSans-48\"/>\r\n       <use x=\"127.246094\" xlink:href=\"#DejaVuSans-48\"/>\r\n      </g>\r\n     </g>\r\n    </g>\r\n    <g id=\"xtick_8\">\r\n     <g id=\"line2d_8\">\r\n      <g>\r\n       <use style=\"stroke:#000000;stroke-width:0.8;\" x=\"309.128828\" xlink:href=\"#m63fef8439a\" y=\"224.64\"/>\r\n      </g>\r\n     </g>\r\n     <g id=\"text_8\">\r\n      <!-- 350 -->\r\n      <g transform=\"translate(299.585078 239.238437)scale(0.1 -0.1)\">\r\n       <use xlink:href=\"#DejaVuSans-51\"/>\r\n       <use x=\"63.623047\" xlink:href=\"#DejaVuSans-53\"/>\r\n       <use x=\"127.246094\" xlink:href=\"#DejaVuSans-48\"/>\r\n      </g>\r\n     </g>\r\n    </g>\r\n    <g id=\"xtick_9\">\r\n     <g id=\"line2d_9\">\r\n      <g>\r\n       <use style=\"stroke:#000000;stroke-width:0.8;\" x=\"347.269634\" xlink:href=\"#m63fef8439a\" y=\"224.64\"/>\r\n      </g>\r\n     </g>\r\n     <g id=\"text_9\">\r\n      <!-- 400 -->\r\n      <g transform=\"translate(337.725884 239.238437)scale(0.1 -0.1)\">\r\n       <defs>\r\n        <path d=\"M 37.796875 64.3125 \r\nL 12.890625 25.390625 \r\nL 37.796875 25.390625 \r\nz\r\nM 35.203125 72.90625 \r\nL 47.609375 72.90625 \r\nL 47.609375 25.390625 \r\nL 58.015625 25.390625 \r\nL 58.015625 17.1875 \r\nL 47.609375 17.1875 \r\nL 47.609375 0 \r\nL 37.796875 0 \r\nL 37.796875 17.1875 \r\nL 4.890625 17.1875 \r\nL 4.890625 26.703125 \r\nz\r\n\" id=\"DejaVuSans-52\"/>\r\n       </defs>\r\n       <use xlink:href=\"#DejaVuSans-52\"/>\r\n       <use x=\"63.623047\" xlink:href=\"#DejaVuSans-48\"/>\r\n       <use x=\"127.246094\" xlink:href=\"#DejaVuSans-48\"/>\r\n      </g>\r\n     </g>\r\n    </g>\r\n   </g>\r\n   <g id=\"matplotlib.axis_2\">\r\n    <g id=\"ytick_1\">\r\n     <g id=\"line2d_10\">\r\n      <defs>\r\n       <path d=\"M 0 0 \r\nL -3.5 0 \r\n\" id=\"m8f37301c17\" style=\"stroke:#000000;stroke-width:0.8;\"/>\r\n      </defs>\r\n      <g>\r\n       <use style=\"stroke:#000000;stroke-width:0.8;\" x=\"26.925\" xlink:href=\"#m8f37301c17\" y=\"206.883974\"/>\r\n      </g>\r\n     </g>\r\n     <g id=\"text_10\">\r\n      <!-- 30 -->\r\n      <g transform=\"translate(7.2 210.683192)scale(0.1 -0.1)\">\r\n       <use xlink:href=\"#DejaVuSans-51\"/>\r\n       <use x=\"63.623047\" xlink:href=\"#DejaVuSans-48\"/>\r\n      </g>\r\n     </g>\r\n    </g>\r\n    <g id=\"ytick_2\">\r\n     <g id=\"line2d_11\">\r\n      <g>\r\n       <use style=\"stroke:#000000;stroke-width:0.8;\" x=\"26.925\" xlink:href=\"#m8f37301c17\" y=\"159.512505\"/>\r\n      </g>\r\n     </g>\r\n     <g id=\"text_11\">\r\n      <!-- 35 -->\r\n      <g transform=\"translate(7.2 163.311724)scale(0.1 -0.1)\">\r\n       <use xlink:href=\"#DejaVuSans-51\"/>\r\n       <use x=\"63.623047\" xlink:href=\"#DejaVuSans-53\"/>\r\n      </g>\r\n     </g>\r\n    </g>\r\n    <g id=\"ytick_3\">\r\n     <g id=\"line2d_12\">\r\n      <g>\r\n       <use style=\"stroke:#000000;stroke-width:0.8;\" x=\"26.925\" xlink:href=\"#m8f37301c17\" y=\"112.141036\"/>\r\n      </g>\r\n     </g>\r\n     <g id=\"text_12\">\r\n      <!-- 40 -->\r\n      <g transform=\"translate(7.2 115.940255)scale(0.1 -0.1)\">\r\n       <use xlink:href=\"#DejaVuSans-52\"/>\r\n       <use x=\"63.623047\" xlink:href=\"#DejaVuSans-48\"/>\r\n      </g>\r\n     </g>\r\n    </g>\r\n    <g id=\"ytick_4\">\r\n     <g id=\"line2d_13\">\r\n      <g>\r\n       <use style=\"stroke:#000000;stroke-width:0.8;\" x=\"26.925\" xlink:href=\"#m8f37301c17\" y=\"64.769567\"/>\r\n      </g>\r\n     </g>\r\n     <g id=\"text_13\">\r\n      <!-- 45 -->\r\n      <g transform=\"translate(7.2 68.568786)scale(0.1 -0.1)\">\r\n       <use xlink:href=\"#DejaVuSans-52\"/>\r\n       <use x=\"63.623047\" xlink:href=\"#DejaVuSans-53\"/>\r\n      </g>\r\n     </g>\r\n    </g>\r\n    <g id=\"ytick_5\">\r\n     <g id=\"line2d_14\">\r\n      <g>\r\n       <use style=\"stroke:#000000;stroke-width:0.8;\" x=\"26.925\" xlink:href=\"#m8f37301c17\" y=\"17.398099\"/>\r\n      </g>\r\n     </g>\r\n     <g id=\"text_14\">\r\n      <!-- 50 -->\r\n      <g transform=\"translate(7.2 21.197317)scale(0.1 -0.1)\">\r\n       <use xlink:href=\"#DejaVuSans-53\"/>\r\n       <use x=\"63.623047\" xlink:href=\"#DejaVuSans-48\"/>\r\n      </g>\r\n     </g>\r\n    </g>\r\n   </g>\r\n   <g id=\"line2d_15\">\r\n    <path clip-path=\"url(#pcf9049f8e0)\" d=\"M 42.143182 108.345341 \r\nL 42.905998 121.859497 \r\nL 43.668814 103.383799 \r\nL 44.43163 96.620433 \r\nL 45.194446 94.159159 \r\nL 45.957262 115.505145 \r\nL 46.720079 117.731499 \r\nL 47.482895 112.594375 \r\nL 49.008527 114.788994 \r\nL 49.771343 114.342587 \r\nL 50.534159 112.855127 \r\nL 51.296975 113.863128 \r\nL 52.059792 115.612047 \r\nL 52.822608 112.71636 \r\nL 53.585424 111.932264 \r\nL 54.34824 111.481872 \r\nL 55.111056 112.997988 \r\nL 55.873872 113.703579 \r\nL 56.636688 111.671426 \r\nL 57.399504 114.803412 \r\nL 58.162321 115.597235 \r\nL 58.925137 114.98069 \r\nL 59.687953 116.440908 \r\nL 60.450769 118.559969 \r\nL 61.976401 119.989503 \r\nL 62.739217 120.774704 \r\nL 63.502033 122.120063 \r\nL 64.26485 123.21586 \r\nL 65.790482 126.237759 \r\nL 66.553298 126.699174 \r\nL 67.316114 123.810289 \r\nL 68.07893 124.512053 \r\nL 68.841746 126.120981 \r\nL 69.604563 124.907849 \r\nL 70.367379 125.026727 \r\nL 71.130195 124.494647 \r\nL 71.893011 121.957628 \r\nL 72.655827 121.17373 \r\nL 73.418643 119.295738 \r\nL 74.181459 118.668139 \r\nL 74.944275 120.101455 \r\nL 75.707092 118.508656 \r\nL 76.469908 116.581151 \r\nL 77.232724 113.489237 \r\nL 77.99554 115.073095 \r\nL 78.758356 117.264784 \r\nL 81.809621 154.225593 \r\nL 83.335253 168.384769 \r\nL 84.860885 183.289079 \r\nL 87.149334 198.056652 \r\nL 87.91215 200.59232 \r\nL 88.674966 203.815234 \r\nL 89.437782 208.038442 \r\nL 90.200598 213.564763 \r\nL 90.963414 212.5317 \r\nL 91.72623 213.134597 \r\nL 92.489046 214.169005 \r\nL 93.251863 213.033828 \r\nL 94.014679 213.753628 \r\nL 94.777495 213.705914 \r\nL 95.540311 214.124653 \r\nL 96.303127 214.756364 \r\nL 97.065943 213.196288 \r\nL 97.828759 213.028799 \r\nL 98.591576 213.233945 \r\nL 99.354392 207.954474 \r\nL 100.117208 209.122565 \r\nL 100.880024 208.135873 \r\nL 101.64284 200.95924 \r\nL 102.405656 199.958133 \r\nL 103.168472 199.478856 \r\nL 103.931288 194.98165 \r\nL 104.694105 193.940447 \r\nL 105.456921 194.818759 \r\nL 106.219737 195.068362 \r\nL 106.982553 196.50888 \r\nL 107.745369 196.761824 \r\nL 108.508185 196.461146 \r\nL 109.271001 195.455996 \r\nL 110.033817 195.739124 \r\nL 110.796634 195.781352 \r\nL 111.55945 196.400906 \r\nL 112.322266 196.312489 \r\nL 113.085082 197.616396 \r\nL 113.847898 196.968834 \r\nL 114.610714 197.24065 \r\nL 115.37353 189.186168 \r\nL 116.136347 187.584285 \r\nL 116.899163 188.336306 \r\nL 117.661979 187.840298 \r\nL 118.424795 188.600293 \r\nL 119.187611 190.09894 \r\nL 119.950427 190.449292 \r\nL 120.713243 191.755262 \r\nL 121.476059 191.725457 \r\nL 122.238876 191.050655 \r\nL 123.001692 183.715222 \r\nL 123.764508 184.391808 \r\nL 124.527324 180.591727 \r\nL 126.052956 181.590236 \r\nL 127.578589 183.993759 \r\nL 128.341405 184.012782 \r\nL 129.104221 184.714259 \r\nL 129.867037 185.90042 \r\nL 130.629853 185.885827 \r\nL 131.392669 185.156267 \r\nL 132.155485 186.049492 \r\nL 132.918301 186.645255 \r\nL 133.681118 186.257045 \r\nL 134.443934 180.966975 \r\nL 135.20675 177.84391 \r\nL 135.969566 177.373453 \r\nL 136.732382 177.105362 \r\nL 137.495198 177.185849 \r\nL 138.258014 177.660466 \r\nL 139.02083 173.485539 \r\nL 139.783647 173.068514 \r\nL 140.546463 174.435853 \r\nL 142.072095 173.768133 \r\nL 142.834911 170.136652 \r\nL 143.597727 172.371514 \r\nL 144.360543 172.606845 \r\nL 145.12336 168.036737 \r\nL 145.886176 169.381871 \r\nL 146.648992 169.305008 \r\nL 147.411808 171.520141 \r\nL 148.174624 171.867839 \r\nL 148.93744 172.508701 \r\nL 149.700256 173.423877 \r\nL 150.463072 174.053878 \r\nL 151.225889 174.404364 \r\nL 151.988705 170.446487 \r\nL 152.751521 172.065187 \r\nL 153.514337 174.072154 \r\nL 154.277153 173.406013 \r\nL 155.039969 172.497929 \r\nL 155.802785 162.909933 \r\nL 157.328418 153.291123 \r\nL 158.091234 148.040259 \r\nL 158.85405 145.92446 \r\nL 161.142498 132.975056 \r\nL 162.668131 126.13261 \r\nL 164.193763 110.482416 \r\nL 164.956579 107.953268 \r\nL 165.719395 97.771113 \r\nL 166.482211 94.581099 \r\nL 167.245027 95.162096 \r\nL 168.007843 94.73455 \r\nL 168.77066 93.072904 \r\nL 169.533476 93.254209 \r\nL 170.296292 92.535634 \r\nL 171.059108 88.257359 \r\nL 171.821924 87.400561 \r\nL 172.58474 86.98473 \r\nL 173.347556 88.7342 \r\nL 174.110373 83.611144 \r\nL 174.873189 83.020185 \r\nL 175.636005 87.012708 \r\nL 177.161637 73.566223 \r\nL 177.924453 79.441474 \r\nL 178.687269 80.480214 \r\nL 179.450085 79.807088 \r\nL 180.212902 82.676478 \r\nL 180.975718 83.87509 \r\nL 181.738534 82.176559 \r\nL 182.50135 76.991036 \r\nL 183.264166 75.928428 \r\nL 184.026982 76.849267 \r\nL 184.789798 77.02493 \r\nL 185.552614 78.240689 \r\nL 186.315431 77.651113 \r\nL 187.078247 74.024301 \r\nL 187.841063 73.495623 \r\nL 188.603879 67.432094 \r\nL 189.366695 66.850713 \r\nL 190.129511 65.935509 \r\nL 190.892327 62.481041 \r\nL 191.655144 70.289698 \r\nL 192.41796 70.969885 \r\nL 193.180776 70.207346 \r\nL 193.943592 71.030702 \r\nL 194.706408 70.810802 \r\nL 195.469224 69.244336 \r\nL 196.23204 67.233753 \r\nL 196.994856 66.435358 \r\nL 197.757673 67.927349 \r\nL 198.520489 62.517226 \r\nL 199.283305 69.865157 \r\nL 200.046121 67.227918 \r\nL 200.808937 71.092194 \r\nL 201.571753 71.244179 \r\nL 202.334569 66.587557 \r\nL 203.097386 66.97118 \r\nL 203.860202 66.696439 \r\nL 204.623018 62.450128 \r\nL 205.385834 62.779621 \r\nL 206.14865 62.479418 \r\nL 206.911466 62.308258 \r\nL 207.674282 61.575298 \r\nL 208.437098 60.569325 \r\nL 209.199915 60.913806 \r\nL 209.962731 56.07055 \r\nL 210.725547 63.077783 \r\nL 211.488363 67.238567 \r\nL 212.251179 67.132887 \r\nL 213.013995 61.101899 \r\nL 213.776811 56.250363 \r\nL 214.539627 56.101954 \r\nL 215.302444 59.73813 \r\nL 216.06526 60.988737 \r\nL 216.828076 59.90344 \r\nL 217.590892 59.627217 \r\nL 218.353708 59.752105 \r\nL 219.116524 64.058226 \r\nL 219.87934 64.236028 \r\nL 220.642157 62.792845 \r\nL 221.404973 66.847328 \r\nL 222.167789 67.204957 \r\nL 222.930605 69.104609 \r\nL 223.693421 68.435311 \r\nL 224.456237 69.567681 \r\nL 225.219053 70.081799 \r\nL 225.981869 70.298353 \r\nL 226.744686 64.223837 \r\nL 227.507502 59.382211 \r\nL 228.270318 64.876833 \r\nL 229.79595 65.555483 \r\nL 230.558766 65.288062 \r\nL 231.321582 62.083965 \r\nL 232.084398 67.935679 \r\nL 232.847215 68.591753 \r\nL 234.372847 59.774641 \r\nL 235.135663 58.420561 \r\nL 235.898479 57.831567 \r\nL 237.424111 45.650013 \r\nL 238.186928 43.064885 \r\nL 238.949744 43.660603 \r\nL 239.71256 49.394297 \r\nL 240.475376 52.786097 \r\nL 241.238192 45.811722 \r\nL 242.001008 53.183262 \r\nL 242.763824 52.385837 \r\nL 243.52664 52.577358 \r\nL 244.289457 52.340773 \r\nL 245.052273 49.737117 \r\nL 245.815089 50.294502 \r\nL 246.577905 43.672239 \r\nL 247.340721 47.58193 \r\nL 248.103537 47.410002 \r\nL 248.866353 39.565849 \r\nL 249.62917 38.756118 \r\nL 250.391986 43.250186 \r\nL 251.154802 37.839205 \r\nL 251.917618 38.07908 \r\nL 252.680434 38.722721 \r\nL 253.44325 45.246082 \r\nL 254.206066 45.365482 \r\nL 254.968882 45.097632 \r\nL 255.731699 41.476196 \r\nL 256.494515 36.596327 \r\nL 257.257331 36.492043 \r\nL 258.020147 37.137926 \r\nL 258.782963 43.231243 \r\nL 259.545779 43.580556 \r\nL 260.308595 35.272548 \r\nL 261.071411 35.266605 \r\nL 261.834228 26.31889 \r\nL 262.597044 22.256388 \r\nL 263.35986 24.354692 \r\nL 264.122676 17.422551 \r\nL 264.885492 23.735247 \r\nL 265.648308 24.08361 \r\nL 266.411124 25.409396 \r\nL 267.173941 27.814262 \r\nL 267.936757 27.443888 \r\nL 268.699573 27.469587 \r\nL 270.225205 17.083636 \r\nL 270.988021 17.241248 \r\nL 271.750837 18.230188 \r\nL 272.513653 21.073377 \r\nL 273.27647 20.633302 \r\nL 274.039286 20.73398 \r\nL 274.802102 27.510162 \r\nL 275.564918 28.372072 \r\nL 276.327734 32.619697 \r\nL 277.853366 33.140488 \r\nL 278.616183 32.417978 \r\nL 279.378999 32.090121 \r\nL 280.141815 30.824357 \r\nL 280.904631 31.562901 \r\nL 281.667447 31.472845 \r\nL 282.430263 29.104431 \r\nL 283.193079 30.306122 \r\nL 283.955895 31.919202 \r\nL 284.718712 32.454941 \r\nL 285.481528 32.550729 \r\nL 286.244344 34.053444 \r\nL 287.00716 33.752737 \r\nL 287.769976 34.218056 \r\nL 288.532792 35.459843 \r\nL 290.058424 46.876521 \r\nL 290.821241 43.716062 \r\nL 291.584057 46.030769 \r\nL 292.346873 44.226162 \r\nL 293.109689 44.662676 \r\nL 293.872505 44.708813 \r\nL 294.635321 39.050991 \r\nL 295.398137 38.542141 \r\nL 296.160954 37.261613 \r\nL 296.92377 38.9324 \r\nL 297.686586 39.963756 \r\nL 298.449402 39.373082 \r\nL 299.212218 32.635601 \r\nL 299.975034 32.72882 \r\nL 300.73785 30.720047 \r\nL 301.500666 30.505639 \r\nL 302.263483 30.568596 \r\nL 303.026299 33.110629 \r\nL 303.789115 38.000504 \r\nL 305.314747 28.821285 \r\nL 306.077563 28.418781 \r\nL 306.840379 29.728082 \r\nL 307.603195 27.771117 \r\nL 308.366012 21.614898 \r\nL 309.128828 21.215289 \r\nL 310.65446 32.726675 \r\nL 311.417276 31.918721 \r\nL 312.180092 33.870714 \r\nL 312.942908 33.713336 \r\nL 313.705725 36.381163 \r\nL 314.468541 37.227276 \r\nL 315.231357 37.506278 \r\nL 315.994173 37.439394 \r\nL 316.756989 35.677659 \r\nL 317.519805 43.568017 \r\nL 318.282621 44.078832 \r\nL 319.808254 44.463218 \r\nL 320.57107 40.372125 \r\nL 321.333886 44.161886 \r\nL 322.096702 44.461937 \r\nL 322.859518 50.753236 \r\nL 323.622334 51.898402 \r\nL 324.38515 52.096705 \r\nL 325.147967 57.801091 \r\nL 325.910783 58.447681 \r\nL 326.673599 54.79399 \r\nL 327.436415 61.534204 \r\nL 328.199231 60.923608 \r\nL 328.962047 65.724226 \r\nL 329.724863 67.649595 \r\nL 330.487679 66.875778 \r\nL 331.250496 67.79197 \r\nL 332.013312 72.911584 \r\nL 332.776128 73.074264 \r\nL 333.538944 72.662084 \r\nL 334.30176 67.207188 \r\nL 335.064576 65.771935 \r\nL 335.827392 60.572239 \r\nL 336.590208 67.799319 \r\nL 337.353025 68.550223 \r\nL 338.115841 77.407601 \r\nL 338.878657 83.065533 \r\nL 339.641473 84.507995 \r\nL 340.404289 90.825514 \r\nL 341.167105 90.162501 \r\nL 341.929921 88.663412 \r\nL 344.21837 89.228624 \r\nL 344.981186 91.817166 \r\nL 346.506818 101.743614 \r\nL 346.506818 101.743614 \r\n\" style=\"fill:none;stroke:#1f77b4;stroke-linecap:square;stroke-width:1.5;\"/>\r\n   </g>\r\n   <g id=\"patch_3\">\r\n    <path d=\"M 26.925 224.64 \r\nL 26.925 7.2 \r\n\" style=\"fill:none;stroke:#000000;stroke-linecap:square;stroke-linejoin:miter;stroke-width:0.8;\"/>\r\n   </g>\r\n   <g id=\"patch_4\">\r\n    <path d=\"M 361.725 224.64 \r\nL 361.725 7.2 \r\n\" style=\"fill:none;stroke:#000000;stroke-linecap:square;stroke-linejoin:miter;stroke-width:0.8;\"/>\r\n   </g>\r\n   <g id=\"patch_5\">\r\n    <path d=\"M 26.925 224.64 \r\nL 361.725 224.64 \r\n\" style=\"fill:none;stroke:#000000;stroke-linecap:square;stroke-linejoin:miter;stroke-width:0.8;\"/>\r\n   </g>\r\n   <g id=\"patch_6\">\r\n    <path d=\"M 26.925 7.2 \r\nL 361.725 7.2 \r\n\" style=\"fill:none;stroke:#000000;stroke-linecap:square;stroke-linejoin:miter;stroke-width:0.8;\"/>\r\n   </g>\r\n  </g>\r\n </g>\r\n <defs>\r\n  <clipPath id=\"pcf9049f8e0\">\r\n   <rect height=\"217.44\" width=\"334.8\" x=\"26.925\" y=\"7.2\"/>\r\n  </clipPath>\r\n </defs>\r\n</svg>\r\n",
      "image/png": "[encoded data removed]"
     },
     "metadata": {
      "needs_background": "light"
     }
    }
   ],
   "source": [
    "from matplotlib import pyplot as plt\n",
    "plt.plot(rewards)"
   ]
  },
  {
   "cell_type": "code",
   "execution_count": 30,
   "metadata": {},
   "outputs": [],
   "source": [
    "import pickle\n",
    "\n",
    "pickle.dump(dictionary, open('mytest.p','wb'))"
   ]
  },
  {
   "cell_type": "code",
   "execution_count": 32,
   "metadata": {},
   "outputs": [],
   "source": [
    "myDicts = pickle.load( open (\"mytest.p\", \"rb\") )"
   ]
  },
  {
   "cell_type": "code",
   "execution_count": 33,
   "metadata": {},
   "outputs": [
    {
     "output_type": "execute_result",
     "data": {
      "text/plain": [
       "[{'state': array([0, 0, 0, 1]), 'action': array([2, 3, 4]), 'done': True},\n",
       " {'state': array([1, 0, 0, 1]), 'action': array([2, 5, 4]), 'done': False},\n",
       " {'state': array([1, 1, 0, 1]), 'action': array([0, 5, 4]), 'done': True}]"
      ]
     },
     "metadata": {},
     "execution_count": 33
    }
   ],
   "source": [
    "myDicts"
   ]
  },
  {
   "cell_type": "code",
   "execution_count": 25,
   "metadata": {},
   "outputs": [
    {
     "output_type": "stream",
     "name": "stdout",
     "text": [
      "npzfile.files: ['state', 'action', 'done']\nnpzfile[\"1\"]: [1 1 0 1]\n"
     ]
    }
   ],
   "source": [
    "outfile = 'dicttest.npz'\n",
    "for row in dictionary:\n",
    "    np.savez(outfile, **row)\n",
    "\n",
    "npzfile  = np.load(outfile)\n",
    "print('npzfile.files: {}'.format(npzfile.files))\n",
    "print('npzfile[\"1\"]: {}'.format(npzfile[\"state\"]))"
   ]
  },
  {
   "cell_type": "code",
   "execution_count": 28,
   "metadata": {},
   "outputs": [
    {
     "output_type": "error",
     "ename": "TypeError",
     "evalue": "Object of type ndarray is not JSON serializable",
     "traceback": [
      "\u001b[1;31m---------------------------------------------------------------------------\u001b[0m",
      "\u001b[1;31mTypeError\u001b[0m                                 Traceback (most recent call last)",
      "\u001b[1;32m<ipython-input-28-4a3def9898c2>\u001b[0m in \u001b[0;36m<module>\u001b[1;34m\u001b[0m\n\u001b[0;32m      4\u001b[0m \u001b[0moutput_file\u001b[0m \u001b[1;33m=\u001b[0m \u001b[0mopen\u001b[0m\u001b[1;33m(\u001b[0m\u001b[0mdest_file\u001b[0m\u001b[1;33m,\u001b[0m \u001b[1;34m'w'\u001b[0m\u001b[1;33m,\u001b[0m \u001b[0mencoding\u001b[0m\u001b[1;33m=\u001b[0m\u001b[1;34m'utf-8'\u001b[0m\u001b[1;33m)\u001b[0m\u001b[1;33m\u001b[0m\u001b[1;33m\u001b[0m\u001b[0m\n\u001b[0;32m      5\u001b[0m \u001b[1;32mfor\u001b[0m \u001b[0mdic\u001b[0m \u001b[1;32min\u001b[0m \u001b[0mdictionary\u001b[0m\u001b[1;33m:\u001b[0m\u001b[1;33m\u001b[0m\u001b[1;33m\u001b[0m\u001b[0m\n\u001b[1;32m----> 6\u001b[1;33m     \u001b[0mjson\u001b[0m\u001b[1;33m.\u001b[0m\u001b[0mdump\u001b[0m\u001b[1;33m(\u001b[0m\u001b[0mdic\u001b[0m\u001b[1;33m,\u001b[0m \u001b[0moutput_file\u001b[0m\u001b[1;33m)\u001b[0m\u001b[1;33m\u001b[0m\u001b[1;33m\u001b[0m\u001b[0m\n\u001b[0m\u001b[0;32m      7\u001b[0m     \u001b[0moutput_file\u001b[0m\u001b[1;33m.\u001b[0m\u001b[0mwrite\u001b[0m\u001b[1;33m(\u001b[0m\u001b[1;34m\"\\n\"\u001b[0m\u001b[1;33m)\u001b[0m\u001b[1;33m\u001b[0m\u001b[1;33m\u001b[0m\u001b[0m\n\u001b[0;32m      8\u001b[0m \u001b[1;33m\u001b[0m\u001b[0m\n",
      "\u001b[1;32mD:\\Software\\ANACONDA\\lib\\json\\__init__.py\u001b[0m in \u001b[0;36mdump\u001b[1;34m(obj, fp, skipkeys, ensure_ascii, check_circular, allow_nan, cls, indent, separators, default, sort_keys, **kw)\u001b[0m\n\u001b[0;32m    177\u001b[0m     \u001b[1;31m# could accelerate with writelines in some versions of Python, at\u001b[0m\u001b[1;33m\u001b[0m\u001b[1;33m\u001b[0m\u001b[1;33m\u001b[0m\u001b[0m\n\u001b[0;32m    178\u001b[0m     \u001b[1;31m# a debuggability cost\u001b[0m\u001b[1;33m\u001b[0m\u001b[1;33m\u001b[0m\u001b[1;33m\u001b[0m\u001b[0m\n\u001b[1;32m--> 179\u001b[1;33m     \u001b[1;32mfor\u001b[0m \u001b[0mchunk\u001b[0m \u001b[1;32min\u001b[0m \u001b[0miterable\u001b[0m\u001b[1;33m:\u001b[0m\u001b[1;33m\u001b[0m\u001b[1;33m\u001b[0m\u001b[0m\n\u001b[0m\u001b[0;32m    180\u001b[0m         \u001b[0mfp\u001b[0m\u001b[1;33m.\u001b[0m\u001b[0mwrite\u001b[0m\u001b[1;33m(\u001b[0m\u001b[0mchunk\u001b[0m\u001b[1;33m)\u001b[0m\u001b[1;33m\u001b[0m\u001b[1;33m\u001b[0m\u001b[0m\n\u001b[0;32m    181\u001b[0m \u001b[1;33m\u001b[0m\u001b[0m\n",
      "\u001b[1;32mD:\\Software\\ANACONDA\\lib\\json\\encoder.py\u001b[0m in \u001b[0;36m_iterencode\u001b[1;34m(o, _current_indent_level)\u001b[0m\n\u001b[0;32m    429\u001b[0m             \u001b[1;32myield\u001b[0m \u001b[1;32mfrom\u001b[0m \u001b[0m_iterencode_list\u001b[0m\u001b[1;33m(\u001b[0m\u001b[0mo\u001b[0m\u001b[1;33m,\u001b[0m \u001b[0m_current_indent_level\u001b[0m\u001b[1;33m)\u001b[0m\u001b[1;33m\u001b[0m\u001b[1;33m\u001b[0m\u001b[0m\n\u001b[0;32m    430\u001b[0m         \u001b[1;32melif\u001b[0m \u001b[0misinstance\u001b[0m\u001b[1;33m(\u001b[0m\u001b[0mo\u001b[0m\u001b[1;33m,\u001b[0m \u001b[0mdict\u001b[0m\u001b[1;33m)\u001b[0m\u001b[1;33m:\u001b[0m\u001b[1;33m\u001b[0m\u001b[1;33m\u001b[0m\u001b[0m\n\u001b[1;32m--> 431\u001b[1;33m             \u001b[1;32myield\u001b[0m \u001b[1;32mfrom\u001b[0m \u001b[0m_iterencode_dict\u001b[0m\u001b[1;33m(\u001b[0m\u001b[0mo\u001b[0m\u001b[1;33m,\u001b[0m \u001b[0m_current_indent_level\u001b[0m\u001b[1;33m)\u001b[0m\u001b[1;33m\u001b[0m\u001b[1;33m\u001b[0m\u001b[0m\n\u001b[0m\u001b[0;32m    432\u001b[0m         \u001b[1;32melse\u001b[0m\u001b[1;33m:\u001b[0m\u001b[1;33m\u001b[0m\u001b[1;33m\u001b[0m\u001b[0m\n\u001b[0;32m    433\u001b[0m             \u001b[1;32mif\u001b[0m \u001b[0mmarkers\u001b[0m \u001b[1;32mis\u001b[0m \u001b[1;32mnot\u001b[0m \u001b[1;32mNone\u001b[0m\u001b[1;33m:\u001b[0m\u001b[1;33m\u001b[0m\u001b[1;33m\u001b[0m\u001b[0m\n",
      "\u001b[1;32mD:\\Software\\ANACONDA\\lib\\json\\encoder.py\u001b[0m in \u001b[0;36m_iterencode_dict\u001b[1;34m(dct, _current_indent_level)\u001b[0m\n\u001b[0;32m    403\u001b[0m                 \u001b[1;32melse\u001b[0m\u001b[1;33m:\u001b[0m\u001b[1;33m\u001b[0m\u001b[1;33m\u001b[0m\u001b[0m\n\u001b[0;32m    404\u001b[0m                     \u001b[0mchunks\u001b[0m \u001b[1;33m=\u001b[0m \u001b[0m_iterencode\u001b[0m\u001b[1;33m(\u001b[0m\u001b[0mvalue\u001b[0m\u001b[1;33m,\u001b[0m \u001b[0m_current_indent_level\u001b[0m\u001b[1;33m)\u001b[0m\u001b[1;33m\u001b[0m\u001b[1;33m\u001b[0m\u001b[0m\n\u001b[1;32m--> 405\u001b[1;33m                 \u001b[1;32myield\u001b[0m \u001b[1;32mfrom\u001b[0m \u001b[0mchunks\u001b[0m\u001b[1;33m\u001b[0m\u001b[1;33m\u001b[0m\u001b[0m\n\u001b[0m\u001b[0;32m    406\u001b[0m         \u001b[1;32mif\u001b[0m \u001b[0mnewline_indent\u001b[0m \u001b[1;32mis\u001b[0m \u001b[1;32mnot\u001b[0m \u001b[1;32mNone\u001b[0m\u001b[1;33m:\u001b[0m\u001b[1;33m\u001b[0m\u001b[1;33m\u001b[0m\u001b[0m\n\u001b[0;32m    407\u001b[0m             \u001b[0m_current_indent_level\u001b[0m \u001b[1;33m-=\u001b[0m \u001b[1;36m1\u001b[0m\u001b[1;33m\u001b[0m\u001b[1;33m\u001b[0m\u001b[0m\n",
      "\u001b[1;32mD:\\Software\\ANACONDA\\lib\\json\\encoder.py\u001b[0m in \u001b[0;36m_iterencode\u001b[1;34m(o, _current_indent_level)\u001b[0m\n\u001b[0;32m    436\u001b[0m                     \u001b[1;32mraise\u001b[0m \u001b[0mValueError\u001b[0m\u001b[1;33m(\u001b[0m\u001b[1;34m\"Circular reference detected\"\u001b[0m\u001b[1;33m)\u001b[0m\u001b[1;33m\u001b[0m\u001b[1;33m\u001b[0m\u001b[0m\n\u001b[0;32m    437\u001b[0m                 \u001b[0mmarkers\u001b[0m\u001b[1;33m[\u001b[0m\u001b[0mmarkerid\u001b[0m\u001b[1;33m]\u001b[0m \u001b[1;33m=\u001b[0m \u001b[0mo\u001b[0m\u001b[1;33m\u001b[0m\u001b[1;33m\u001b[0m\u001b[0m\n\u001b[1;32m--> 438\u001b[1;33m             \u001b[0mo\u001b[0m \u001b[1;33m=\u001b[0m \u001b[0m_default\u001b[0m\u001b[1;33m(\u001b[0m\u001b[0mo\u001b[0m\u001b[1;33m)\u001b[0m\u001b[1;33m\u001b[0m\u001b[1;33m\u001b[0m\u001b[0m\n\u001b[0m\u001b[0;32m    439\u001b[0m             \u001b[1;32myield\u001b[0m \u001b[1;32mfrom\u001b[0m \u001b[0m_iterencode\u001b[0m\u001b[1;33m(\u001b[0m\u001b[0mo\u001b[0m\u001b[1;33m,\u001b[0m \u001b[0m_current_indent_level\u001b[0m\u001b[1;33m)\u001b[0m\u001b[1;33m\u001b[0m\u001b[1;33m\u001b[0m\u001b[0m\n\u001b[0;32m    440\u001b[0m             \u001b[1;32mif\u001b[0m \u001b[0mmarkers\u001b[0m \u001b[1;32mis\u001b[0m \u001b[1;32mnot\u001b[0m \u001b[1;32mNone\u001b[0m\u001b[1;33m:\u001b[0m\u001b[1;33m\u001b[0m\u001b[1;33m\u001b[0m\u001b[0m\n",
      "\u001b[1;32mD:\\Software\\ANACONDA\\lib\\json\\encoder.py\u001b[0m in \u001b[0;36mdefault\u001b[1;34m(self, o)\u001b[0m\n\u001b[0;32m    177\u001b[0m \u001b[1;33m\u001b[0m\u001b[0m\n\u001b[0;32m    178\u001b[0m         \"\"\"\n\u001b[1;32m--> 179\u001b[1;33m         raise TypeError(f'Object of type {o.__class__.__name__} '\n\u001b[0m\u001b[0;32m    180\u001b[0m                         f'is not JSON serializable')\n\u001b[0;32m    181\u001b[0m \u001b[1;33m\u001b[0m\u001b[0m\n",
      "\u001b[1;31mTypeError\u001b[0m: Object of type ndarray is not JSON serializable"
     ]
    }
   ],
   "source": [
    "import json\n",
    "dest_file = 'test.txt'\n",
    "\n",
    "output_file = open(dest_file, 'w', encoding='utf-8')\n",
    "for dic in dictionary:\n",
    "    json.dump(dic, output_file) \n",
    "    output_file.write(\"\\n\")\n",
    "\n",
    "# with open('dicttest', 'w') as fout:\n",
    "#     json.dump(dictionary, fout)\n",
    "\n",
    "# buffer_checkpoint_file = 'buffertest.txt'\n",
    "# buffer_file = open(buffer_checkpoint_file, 'w')\n",
    "\n",
    "# # json = json.dumps(dict)\n",
    "# # f = open(\"dict.json\",\"w\")\n",
    "# # f.write(json)\n",
    "# # f.close()\n",
    "\n",
    "# for row in np.array(dictionary).reshape(len(dictionary),1):\n",
    "#     key,val = row[0].items()\n",
    "#     # print(key,val)\n",
    "#     print(row[0])\n",
    "#         # np.savetxt(buffer_file, row)\n",
    "\n",
    "# for key,val in dictionary[0].items():\n",
    "#     print(key,val)\n",
    "#     # np.savetxt(buffer_file, row)\n",
    "# buffer_file.close()"
   ]
  },
  {
   "cell_type": "code",
   "execution_count": 3,
   "metadata": {},
   "outputs": [
    {
     "output_type": "execute_result",
     "data": {
      "text/plain": [
       "array([[{'state': array([0, 0, 0, 1]), 'action': array([2, 3, 4]), 'done': True}],\n",
       "       [{'state': array([1, 0, 0, 1]), 'action': array([2, 5, 4]), 'done': False}],\n",
       "       [{'state': array([1, 1, 0, 1]), 'action': array([0, 5, 4]), 'done': True}]],\n",
       "      dtype=object)"
      ]
     },
     "metadata": {},
     "execution_count": 3
    }
   ],
   "source": [
    "np.array(dictionary).reshape(len(dictionary),1)"
   ]
  },
  {
   "cell_type": "code",
   "execution_count": 4,
   "metadata": {},
   "outputs": [
    {
     "output_type": "error",
     "ename": "RuntimeError",
     "evalue": "Physical devices cannot be modified after being initialized",
     "traceback": [
      "\u001b[1;31m---------------------------------------------------------------------------\u001b[0m",
      "\u001b[1;31mRuntimeError\u001b[0m                              Traceback (most recent call last)",
      "\u001b[1;32m<ipython-input-4-150600dc51ed>\u001b[0m in \u001b[0;36m<module>\u001b[1;34m\u001b[0m\n\u001b[0;32m     19\u001b[0m \u001b[1;33m\u001b[0m\u001b[0m\n\u001b[0;32m     20\u001b[0m \u001b[0mphysical_devices\u001b[0m \u001b[1;33m=\u001b[0m \u001b[0mtf\u001b[0m\u001b[1;33m.\u001b[0m\u001b[0mconfig\u001b[0m\u001b[1;33m.\u001b[0m\u001b[0mexperimental\u001b[0m\u001b[1;33m.\u001b[0m\u001b[0mlist_physical_devices\u001b[0m\u001b[1;33m(\u001b[0m\u001b[1;34m'GPU'\u001b[0m\u001b[1;33m)\u001b[0m\u001b[1;33m\u001b[0m\u001b[1;33m\u001b[0m\u001b[0m\n\u001b[1;32m---> 21\u001b[1;33m \u001b[0mtf\u001b[0m\u001b[1;33m.\u001b[0m\u001b[0mconfig\u001b[0m\u001b[1;33m.\u001b[0m\u001b[0mexperimental\u001b[0m\u001b[1;33m.\u001b[0m\u001b[0mset_memory_growth\u001b[0m\u001b[1;33m(\u001b[0m\u001b[0mphysical_devices\u001b[0m\u001b[1;33m[\u001b[0m\u001b[1;36m0\u001b[0m\u001b[1;33m]\u001b[0m\u001b[1;33m,\u001b[0m \u001b[1;32mTrue\u001b[0m\u001b[1;33m)\u001b[0m\u001b[1;33m\u001b[0m\u001b[1;33m\u001b[0m\u001b[0m\n\u001b[0m\u001b[0;32m     22\u001b[0m \u001b[1;31m# config = ConfigProto()\u001b[0m\u001b[1;33m\u001b[0m\u001b[1;33m\u001b[0m\u001b[1;33m\u001b[0m\u001b[0m\n\u001b[0;32m     23\u001b[0m \u001b[1;31m# config.gpu_options.allow_growth = True\u001b[0m\u001b[1;33m\u001b[0m\u001b[1;33m\u001b[0m\u001b[1;33m\u001b[0m\u001b[0m\n",
      "\u001b[1;32mD:\\Software\\ANACONDA\\lib\\site-packages\\tensorflow\\python\\framework\\config.py\u001b[0m in \u001b[0;36mset_memory_growth\u001b[1;34m(device, enable)\u001b[0m\n\u001b[0;32m    592\u001b[0m     \u001b[0mRuntimeError\u001b[0m\u001b[1;33m:\u001b[0m \u001b[0mRuntime\u001b[0m \u001b[1;32mis\u001b[0m \u001b[0malready\u001b[0m \u001b[0minitialized\u001b[0m\u001b[1;33m.\u001b[0m\u001b[1;33m\u001b[0m\u001b[1;33m\u001b[0m\u001b[0m\n\u001b[0;32m    593\u001b[0m   \"\"\"\n\u001b[1;32m--> 594\u001b[1;33m   \u001b[0mcontext\u001b[0m\u001b[1;33m.\u001b[0m\u001b[0mcontext\u001b[0m\u001b[1;33m(\u001b[0m\u001b[1;33m)\u001b[0m\u001b[1;33m.\u001b[0m\u001b[0mset_memory_growth\u001b[0m\u001b[1;33m(\u001b[0m\u001b[0mdevice\u001b[0m\u001b[1;33m,\u001b[0m \u001b[0menable\u001b[0m\u001b[1;33m)\u001b[0m\u001b[1;33m\u001b[0m\u001b[1;33m\u001b[0m\u001b[0m\n\u001b[0m\u001b[0;32m    595\u001b[0m \u001b[1;33m\u001b[0m\u001b[0m\n\u001b[0;32m    596\u001b[0m \u001b[1;33m\u001b[0m\u001b[0m\n",
      "\u001b[1;32mD:\\Software\\ANACONDA\\lib\\site-packages\\tensorflow\\python\\eager\\context.py\u001b[0m in \u001b[0;36mset_memory_growth\u001b[1;34m(self, dev, enable)\u001b[0m\n\u001b[0;32m   1446\u001b[0m \u001b[1;33m\u001b[0m\u001b[0m\n\u001b[0;32m   1447\u001b[0m     \u001b[1;32mif\u001b[0m \u001b[0mself\u001b[0m\u001b[1;33m.\u001b[0m\u001b[0m_context_handle\u001b[0m \u001b[1;32mis\u001b[0m \u001b[1;32mnot\u001b[0m \u001b[1;32mNone\u001b[0m\u001b[1;33m:\u001b[0m\u001b[1;33m\u001b[0m\u001b[1;33m\u001b[0m\u001b[0m\n\u001b[1;32m-> 1448\u001b[1;33m       raise RuntimeError(\n\u001b[0m\u001b[0;32m   1449\u001b[0m           \"Physical devices cannot be modified after being initialized\")\n\u001b[0;32m   1450\u001b[0m \u001b[1;33m\u001b[0m\u001b[0m\n",
      "\u001b[1;31mRuntimeError\u001b[0m: Physical devices cannot be modified after being initialized"
     ]
    }
   ],
   "source": [
    "from tensorflow.keras.layers import Dense, Dropout, Input, Conv2D, MaxPooling2D, Flatten\n",
    "from tensorflow.keras.models import Sequential, Model\n",
    "from tensorflow.keras.layers import Add, Concatenate\n",
    "import tensorflow_probability as tfp\n",
    "from tensorflow.keras.optimizers import Adam\n",
    "from tensorflow.keras.regularizers import l2\n",
    "import tensorflow.keras.backend as K\n",
    "from collections import deque\n",
    "import tensorflow as tf\n",
    "import numpy as np \n",
    "import random\n",
    "import tensorflow.compat.v1.keras.backend as K\n",
    "import tensorflow as tf\n",
    "import numpy as np \n",
    "import random\n",
    "import gym\n",
    "from tensorflow.compat.v1 import ConfigProto\n",
    "import keyboard\n",
    "\n",
    "physical_devices = tf.config.experimental.list_physical_devices('GPU')\n",
    "tf.config.experimental.set_memory_growth(physical_devices[0], True)\n",
    "# config = ConfigProto()\n",
    "# config.gpu_options.allow_growth = True\n",
    "\n",
    "sess = tf.compat.v1.Session(tf.compat.v1.global_variables_initializer())\n",
    "dim_actions = 4\n",
    "dim_state = (96,96,3)\n",
    "wr = None\n",
    "env = gym.make(\"CarRacing-v0\")\n",
    "\n"
   ]
  },
  {
   "cell_type": "code",
   "execution_count": 48,
   "metadata": {},
   "outputs": [
    {
     "output_type": "execute_result",
     "data": {
      "text/plain": [
       "<tf.Tensor: shape=(2, 1), dtype=float64, numpy=\n",
       "array([[-1.3994676 ],\n",
       "       [-2.15311969]])>"
      ]
     },
     "metadata": {},
     "execution_count": 48
    }
   ],
   "source": [
    "import tensorflow_probability as tfp\n",
    "import tensorflow as tf\n",
    "\n",
    "mu = np.array([[0.5, 0.1, 0.9999, 0.78],\n",
    "               [0.1, 0.4, 0.6, 0.9]])\n",
    "\n",
    "sigma = np.array([[0.2,0.6, 0.5, 0.2],\n",
    "                  [0.3, 0.6, 0.9, 0.1]])\n",
    "\n",
    "\n",
    "probabilities = tfp.distributions.Normal(loc = mu, scale = sigma)\n",
    "actions = probabilities.sample()\n",
    "action = tf.math.softmax(actions)\n",
    "log_probs = probabilities.log_prob(actions)\n",
    "tf.math.reduce_sum(log_probs, axis = 1, keepdims=True)"
   ]
  },
  {
   "cell_type": "code",
   "execution_count": 24,
   "metadata": {},
   "outputs": [
    {
     "output_type": "execute_result",
     "data": {
      "text/plain": [
       "<tf.Tensor: shape=(2, 4), dtype=float64, numpy=\n",
       "array([[ 0.68705775, -0.61228079, -0.75932154, -0.40909374],\n",
       "       [-0.53163725, -0.41777501, -0.82196934, -7.29384274]])>"
      ]
     },
     "metadata": {},
     "execution_count": 24
    }
   ],
   "source": [
    "probabilities.log_prob(0.48340693)"
   ]
  },
  {
   "cell_type": "code",
   "execution_count": 3,
   "metadata": {},
   "outputs": [],
   "source": [
    "with tf.compat.v1.variable_scope(\"train\"):\n",
    "    state_input = Input(shape = dim_state)\n",
    "    c1 = Conv2D(filters=8, kernel_size=(7, 7), strides=4, name='conv1', activation = 'relu')(state_input)\n",
    "    mp1 = MaxPooling2D(pool_size=2, strides=2, padding='SAME')(c1)\n",
    "    c2 = Conv2D(filters=16, kernel_size=(3, 3), strides=1, name='conv2', activation = 'relu')(mp1)\n",
    "    mp2 = MaxPooling2D(pool_size=2, strides=2, padding='SAME')(c2)\n",
    "    f = Flatten()(mp2)\n",
    "    h1 = Dense(400, activation = 'relu')(f)\n",
    "    mu = Dense(dim_actions, activation = 'linear')(h1)\n",
    "    sigma = Dense(dim_actions, activation = 'relu')(mu)\n",
    "\n",
    "\n",
    "training_loss = tf.nn.l2_loss(q_target - q_estimates_for_input_action) / self.batchsize\n",
    "\n",
    "\n",
    "# actor_model = Model(inputs = state_input, outputs = [mu,sigma])\n",
    "# actor_model.compile(loss = 'mse')\n",
    "\n",
    "# value = Dense(1, activation=None)(h1)\n",
    "# value_model = Model(inputs = state_input, outputs = value)\n",
    "# value_model.compile(loss = 'mse')"
   ]
  },
  {
   "cell_type": "code",
   "execution_count": 4,
   "metadata": {},
   "outputs": [
    {
     "output_type": "error",
     "ename": "RuntimeError",
     "evalue": "The Session graph is empty.  Add operations to the graph before calling run().",
     "traceback": [
      "\u001b[1;31m---------------------------------------------------------------------------\u001b[0m",
      "\u001b[1;31mRuntimeError\u001b[0m                              Traceback (most recent call last)",
      "\u001b[1;32m<ipython-input-4-1082bacf7602>\u001b[0m in \u001b[0;36m<module>\u001b[1;34m\u001b[0m\n\u001b[0;32m      2\u001b[0m \u001b[0maction\u001b[0m \u001b[1;33m=\u001b[0m \u001b[0mnp\u001b[0m\u001b[1;33m.\u001b[0m\u001b[0mzeros\u001b[0m\u001b[1;33m(\u001b[0m\u001b[1;33m(\u001b[0m\u001b[1;36m1\u001b[0m\u001b[1;33m,\u001b[0m\u001b[1;36m4\u001b[0m\u001b[1;33m)\u001b[0m\u001b[1;33m)\u001b[0m\u001b[1;33m\u001b[0m\u001b[1;33m\u001b[0m\u001b[0m\n\u001b[0;32m      3\u001b[0m \u001b[1;33m\u001b[0m\u001b[0m\n\u001b[1;32m----> 4\u001b[1;33m \u001b[0msess\u001b[0m\u001b[1;33m.\u001b[0m\u001b[0mrun\u001b[0m\u001b[1;33m(\u001b[0m\u001b[0mmu\u001b[0m\u001b[1;33m,\u001b[0m \u001b[0mstate\u001b[0m\u001b[1;33m)\u001b[0m\u001b[1;33m\u001b[0m\u001b[1;33m\u001b[0m\u001b[0m\n\u001b[0m",
      "\u001b[1;32mD:\\Software\\ANACONDA\\lib\\site-packages\\tensorflow\\python\\client\\session.py\u001b[0m in \u001b[0;36mrun\u001b[1;34m(self, fetches, feed_dict, options, run_metadata)\u001b[0m\n\u001b[0;32m    965\u001b[0m \u001b[1;33m\u001b[0m\u001b[0m\n\u001b[0;32m    966\u001b[0m     \u001b[1;32mtry\u001b[0m\u001b[1;33m:\u001b[0m\u001b[1;33m\u001b[0m\u001b[1;33m\u001b[0m\u001b[0m\n\u001b[1;32m--> 967\u001b[1;33m       result = self._run(None, fetches, feed_dict, options_ptr,\n\u001b[0m\u001b[0;32m    968\u001b[0m                          run_metadata_ptr)\n\u001b[0;32m    969\u001b[0m       \u001b[1;32mif\u001b[0m \u001b[0mrun_metadata\u001b[0m\u001b[1;33m:\u001b[0m\u001b[1;33m\u001b[0m\u001b[1;33m\u001b[0m\u001b[0m\n",
      "\u001b[1;32mD:\\Software\\ANACONDA\\lib\\site-packages\\tensorflow\\python\\client\\session.py\u001b[0m in \u001b[0;36m_run\u001b[1;34m(self, handle, fetches, feed_dict, options, run_metadata)\u001b[0m\n\u001b[0;32m   1114\u001b[0m       \u001b[1;32mraise\u001b[0m \u001b[0mRuntimeError\u001b[0m\u001b[1;33m(\u001b[0m\u001b[1;34m'Attempted to use a closed Session.'\u001b[0m\u001b[1;33m)\u001b[0m\u001b[1;33m\u001b[0m\u001b[1;33m\u001b[0m\u001b[0m\n\u001b[0;32m   1115\u001b[0m     \u001b[1;32mif\u001b[0m \u001b[0mself\u001b[0m\u001b[1;33m.\u001b[0m\u001b[0mgraph\u001b[0m\u001b[1;33m.\u001b[0m\u001b[0mversion\u001b[0m \u001b[1;33m==\u001b[0m \u001b[1;36m0\u001b[0m\u001b[1;33m:\u001b[0m\u001b[1;33m\u001b[0m\u001b[1;33m\u001b[0m\u001b[0m\n\u001b[1;32m-> 1116\u001b[1;33m       raise RuntimeError('The Session graph is empty.  Add operations to the '\n\u001b[0m\u001b[0;32m   1117\u001b[0m                          'graph before calling run().')\n\u001b[0;32m   1118\u001b[0m \u001b[1;33m\u001b[0m\u001b[0m\n",
      "\u001b[1;31mRuntimeError\u001b[0m: The Session graph is empty.  Add operations to the graph before calling run()."
     ]
    }
   ],
   "source": [
    "state = np.ones((1,96,96,3))\n",
    "action = np.zeros((1,4))\n",
    "\n",
    "sess.run(mu, state)"
   ]
  },
  {
   "cell_type": "code",
   "execution_count": 6,
   "metadata": {},
   "outputs": [],
   "source": [
    "state_input = Input(shape = dim_state)\n",
    "state_c1 = Conv2D(filters=8, kernel_size=(7,7), strides=4, name='conv1', kernel_regularizer = wr, activation = 'relu')(state_input)\n",
    "state_mp1 = MaxPooling2D(pool_size=2, strides=2, padding='SAME')(state_c1)\n",
    "state_c2 = Conv2D(filters=16, kernel_size=(3, 3), strides=1, name='conv2', kernel_regularizer = wr, activation = 'relu')(state_mp1)\n",
    "state_mp2 = MaxPooling2D(pool_size=2, strides=2, padding='SAME')(state_c2)\n",
    "state_f = Flatten()(state_mp2)\n",
    "\n",
    "# The action input section\n",
    "action_input = Input(shape = dim_actions)\n",
    "action_h1 = Dense(400, activation = 'relu')(action_input)\n",
    "\n",
    "# combining the action and state inputs\n",
    "merged = Concatenate()([action_h1, state_f])\n",
    "merged_h1 = Dense(400, activation = 'relu', kernel_regularizer=wr)(merged)\n",
    "output = Dense(1, activation = None, kernel_regularizer = wr)(merged_h1)\n",
    "critic_model = Model(inputs = [state_input, action_input], outputs = output)\n",
    "critic_model.compile(loss = 'mse')"
   ]
  },
  {
   "cell_type": "code",
   "execution_count": 13,
   "metadata": {},
   "outputs": [
    {
     "output_type": "execute_result",
     "data": {
      "text/plain": [
       "<tf.Tensor: shape=(1, 1), dtype=float32, numpy=array([[-0.34707898]], dtype=float32)>"
      ]
     },
     "metadata": {},
     "execution_count": 13
    }
   ],
   "source": [
    "state = np.ones((1,96,96,3))\n",
    "action = np.zeros((1,4))\n",
    "val = value_model(state)\n",
    "critic = critic_model([state, action])\n",
    "critic"
   ]
  },
  {
   "cell_type": "code",
   "execution_count": 6,
   "metadata": {},
   "outputs": [
    {
     "output_type": "stream",
     "name": "stdout",
     "text": [
      "tf.Tensor([1.2301391e-02 1.0000000e-06 1.6673745e-01 8.3308436e-02], shape=(4,), dtype=float32)\n"
     ]
    }
   ],
   "source": [
    "state = np.ones((1,96,96,3))\n",
    "mu,sigma = actor_model(state)\n",
    "mu = tf.squeeze(mu) \n",
    "sigma = tf.squeeze(sigma) + 1e-6\n",
    "# # sigma = tf.clip_by_value(sigma, 1e-6, 1)\n",
    "print(sigma)\n",
    "probabilities = tfp.distributions.Normal(mu,sigma)"
   ]
  },
  {
   "cell_type": "code",
   "execution_count": 7,
   "metadata": {},
   "outputs": [
    {
     "output_type": "execute_result",
     "data": {
      "text/plain": [
       "(<tf.Tensor: shape=(1,), dtype=float32, numpy=array([18.242004], dtype=float32)>,\n",
       " 18.242004)"
      ]
     },
     "metadata": {},
     "execution_count": 7
    }
   ],
   "source": [
    "actions = probabilities.sample()\n",
    "action = tf.math.softmax(actions)\n",
    "log_probs = probabilities.log_prob(actions)\n",
    "# log_probs -= tf.math.log(1-tf.math.pow(action,2) + 1e-6)  # why do we subtract this, = we just make sure we do not take the log of zero.\n",
    "log_probs = tf.math.reduce_sum(log_probs, axis=0, keepdims=True)\n",
    "log_probs, np.sum(probabilities.log_prob(actions))\n"
   ]
  },
  {
   "cell_type": "code",
   "execution_count": 30,
   "metadata": {},
   "outputs": [
    {
     "output_type": "execute_result",
     "data": {
      "text/plain": [
       "<tf.Tensor: shape=(4,), dtype=float32, numpy=array([-0.37128168, -0.02878322,  0.48040307, -0.59046876], dtype=float32)>"
      ]
     },
     "metadata": {},
     "execution_count": 30
    }
   ],
   "source": [
    "probabilities.log_prob(actions)"
   ]
  },
  {
   "source": [
    "# The Open AI implementation of SAC"
   ],
   "cell_type": "markdown",
   "metadata": {}
  },
  {
   "cell_type": "code",
   "execution_count": 51,
   "metadata": {
    "tags": []
   },
   "outputs": [
    {
     "output_type": "stream",
     "name": "stderr",
     "text": [
      "C:\\Users\\jesse\\AppData\\Roaming\\Python\\Python38\\site-packages\\gym\\logger.py:30: UserWarning: \u001b[33mWARN: Box bound precision lowered by casting to float32\u001b[0m\n  warnings.warn(colorize('%s: %s'%('WARN', msg % args), 'yellow'))\n"
     ]
    }
   ],
   "source": [
    "import tensorflow.compat.v1.keras.backend as K\n",
    "import tensorflow as tf\n",
    "import numpy as np \n",
    "import random\n",
    "import gym\n",
    "from tensorflow.compat.v1 import ConfigProto\n",
    "import keyboard\n",
    "\n",
    "config = ConfigProto()\n",
    "config.gpu_options.allow_growth = True\n",
    "physical_devices = tf.config.experimental.list_physical_devices('GPU')\n",
    "tf.config.experimental.set_memory_growth(physical_devices[0], True)\n",
    "\n",
    "sess = tf.compat.v1.Session()\n",
    "K.set_session(sess)\n",
    "tf.compat.v1.reset_default_graph\n",
    "tf.compat.v1.disable_eager_execution()\n",
    "\n",
    "env = gym.make(\"CarRacing-v0\")\n",
    "# ddpg = DDPG(env, sess)\n",
    "# n_episodes = 10\n",
    "\n",
    "# for episode in range(n_episodes):\n",
    "#     current_state = env.reset()\n",
    "#     steps = 0\n",
    "#     while True:\n",
    "#         steps += 1\n",
    "#         isopen = env.render()\n",
    "#         current_state = current_state.reshape(1,96,96,3)\n",
    "\n",
    "#         model_action, action = ddpg.choose_action(current_state)\n",
    "\n",
    "#         next_state, reward, done, info = env.step(action)\n",
    "#         next_state = next_state.reshape(1,96,96,3)\n",
    "\n",
    "#         ddpg.build_memory(current_state, model_action.reshape(1,4), reward, next_state, done)\n",
    "#         ddpg.train()\n",
    "#         current_state = next_state\n",
    "\n",
    "#         if not isopen or done:\n",
    "#             break\n",
    "\n",
    "#         if keyboard.is_pressed('q'):\n",
    "#             env.close()\n",
    "#             isopen = False\n",
    "#             break\n",
    "\n",
    "#     if isopen == False:\n",
    "#         break\n",
    "\n"
   ]
  },
  {
   "cell_type": "code",
   "execution_count": 53,
   "metadata": {},
   "outputs": [
    {
     "output_type": "execute_result",
     "data": {
      "text/plain": [
       "array([-1.,  0.,  0.], dtype=float32)"
      ]
     },
     "metadata": {},
     "execution_count": 53
    }
   ],
   "source": [
    "env.action_space.low"
   ]
  },
  {
   "cell_type": "code",
   "execution_count": null,
   "metadata": {},
   "outputs": [],
   "source": []
  }
 ]
}